{
  "nbformat": 4,
  "nbformat_minor": 0,
  "metadata": {
    "colab": {
      "provenance": [],
      "authorship_tag": "ABX9TyPemqV75LCtDCghYJJSK+Yh",
      "include_colab_link": true
    },
    "kernelspec": {
      "name": "python3",
      "display_name": "Python 3"
    },
    "language_info": {
      "name": "python"
    }
  },
  "cells": [
    {
      "cell_type": "markdown",
      "metadata": {
        "id": "view-in-github",
        "colab_type": "text"
      },
      "source": [
        "<a href=\"https://colab.research.google.com/github/duongnhathuy/A_I/blob/main/BTVN_W3.ipynb\" target=\"_parent\"><img src=\"https://colab.research.google.com/assets/colab-badge.svg\" alt=\"Open In Colab\"/></a>"
      ]
    },
    {
      "cell_type": "code",
      "execution_count": null,
      "metadata": {
        "colab": {
          "base_uri": "https://localhost:8080/"
        },
        "id": "OOBzrENalbo2",
        "outputId": "796153ff-1d59-43d6-afcb-9fc050cfc2fc"
      },
      "outputs": [
        {
          "output_type": "stream",
          "name": "stdout",
          "text": [
            "Tổng số huy chương Vàng của Mỹ:  78\n",
            "Tổng số huy chương Bạc của Mỹ:  80\n",
            "Tổng số huy chương Đồng của Mỹ:  58\n",
            "Tổng số huy chương của Mỹ:  216\n",
            "Nước có nhiều huy chương nhất:  YUG\n",
            "Số huy chương theo từng môn: \n"
          ]
        },
        {
          "output_type": "execute_result",
          "data": {
            "text/plain": [
              "Skiing        1060\n",
              "Skating        758\n",
              "Biathlon       162\n",
              "Bobsleigh      133\n",
              "Luge           108\n",
              "Ice Hockey      69\n",
              "Curling         21\n",
              "Name: Sport, dtype: int64"
            ]
          },
          "metadata": {},
          "execution_count": 9
        }
      ],
      "source": [
        "import pandas as pd\n",
        "url = 'http://winterolympicsmedals.com/medals.csv'\n",
        "data = pd.read_csv(url)\n",
        "Gold = len(data[(data['Medal']=='Gold')&(data['NOC']=='USA')])\n",
        "Silver = len(data[(data['Medal']=='Silver')&(data['NOC']=='USA')])\n",
        "Bronze = len(data[(data['Medal']=='Bronze')&(data['NOC']=='USA')])\n",
        "Total = Gold+Silver+Bronze\n",
        "\n",
        "print('Tổng số huy chương Vàng của Mỹ: ', Gold)\n",
        "print('Tổng số huy chương Bạc của Mỹ: ', Silver)\n",
        "print('Tổng số huy chương Đồng của Mỹ: ', Bronze)\n",
        "print('Tổng số huy chương của Mỹ: ', Total)\n",
        "\n",
        "data[data['NOC']=='USA'].head()\n",
        "print('Nước có nhiều huy chương nhất: ', data['NOC'].max())\n",
        "print('Số huy chương theo từng môn: ')\n",
        "data['Sport'].value_counts()\n",
        "\n"
      ]
    },
    {
      "cell_type": "code",
      "source": [],
      "metadata": {
        "id": "dIz0KXsqleEJ"
      },
      "execution_count": null,
      "outputs": []
    }
  ]
}